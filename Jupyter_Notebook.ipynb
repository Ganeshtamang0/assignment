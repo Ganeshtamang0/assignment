{
  "cells": [
    {
      "cell_type": "markdown",
      "metadata": {
        "id": "coYcN8O37flW"
      },
      "source": [
        "<center>\n",
        "    <img src=\"https://cf-courses-data.s3.us.cloud-object-storage.appdomain.cloud/IBMDeveloperSkillsNetwork-DS0105EN-SkillsNetwork/labs/Module2/images/SN_web_lightmode.png\" width=\"300\" alt=\"cognitiveclass.ai logo\"  />\n",
        "</center>\n"
      ]
    },
    {
      "cell_type": "markdown",
      "metadata": {
        "id": "qNrnwF3s7flc"
      },
      "source": [
        "#### Add your code below following the instructions given in the course\n"
      ]
    },
    {
      "cell_type": "markdown",
      "source": [
        "#My Jupyter Notebook on IBM Watson Studio"
      ],
      "metadata": {
        "id": "Pq6rwotI7pus"
      }
    },
    {
      "cell_type": "markdown",
      "source": [
        "**Ganesh Tamang**\n",
        "\n",
        "Data Scientist"
      ],
      "metadata": {
        "id": "qa1rBmc_70Sq"
      }
    },
    {
      "cell_type": "markdown",
      "source": [
        "*I am interested in data science because exploring data is interesting and fun. It is the sexiest job ever. *"
      ],
      "metadata": {
        "id": "fPYg6YmA8E0l"
      }
    },
    {
      "cell_type": "markdown",
      "source": [
        "### it shows sum of two ones"
      ],
      "metadata": {
        "id": "OvDbafRx8iyG"
      }
    },
    {
      "cell_type": "code",
      "source": [
        "1+1 \n"
      ],
      "metadata": {
        "colab": {
          "base_uri": "https://localhost:8080/"
        },
        "id": "eGV-5fxa8jUM",
        "outputId": "080b1f66-4c8e-4f21-ae18-720eed94c142"
      },
      "execution_count": 1,
      "outputs": [
        {
          "output_type": "execute_result",
          "data": {
            "text/plain": [
              "2"
            ]
          },
          "metadata": {},
          "execution_count": 1
        }
      ]
    },
    {
      "cell_type": "markdown",
      "source": [
        "\n",
        "| First Header  | Second Header |\n",
        "| ------------- | ------------- |\n",
        "| Content       | Content       |\n",
        "| Content       | Content       |\n",
        "\n",
        "*** \n",
        "\n",
        "```javascript \n",
        "if (code_highlighted){\n",
        "  return true\n",
        "}\n",
        "```\n"
      ],
      "metadata": {
        "id": "_Ac8HWHu8-vM"
      }
    }
  ],
  "metadata": {
    "kernelspec": {
      "display_name": "Python 3",
      "language": "python",
      "name": "python3"
    },
    "language_info": {
      "codemirror_mode": {
        "name": "ipython",
        "version": 3
      },
      "file_extension": ".py",
      "mimetype": "text/x-python",
      "name": "python",
      "nbconvert_exporter": "python",
      "pygments_lexer": "ipython3",
      "version": "3.7.6"
    },
    "colab": {
      "provenance": []
    }
  },
  "nbformat": 4,
  "nbformat_minor": 0
}